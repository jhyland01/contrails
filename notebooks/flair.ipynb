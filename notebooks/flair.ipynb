{
 "cells": [
  {
   "cell_type": "code",
   "execution_count": 1,
   "metadata": {},
   "outputs": [],
   "source": [
    "import os\n",
    "import numpy as np\n",
    "import pandas as pd\n",
    "import matplotlib.pyplot as plt\n",
    "from pathlib import Path\n",
    "# data_path = Path('/../train/')"
   ]
  },
  {
   "cell_type": "code",
   "execution_count": 2,
   "metadata": {},
   "outputs": [],
   "source": [
    "# train_folder = '/Users/johnny/Library/CloudStorage/OneDrive-Personal/py/Kaggle/contrails/flair/FLAIR-1-AI-Challenge/flair_aerial_train'\n",
    "# mask_folder = '/Users/johnny/Library/CloudStorage/OneDrive-Personal/py/Kaggle/contrails/flair/FLAIR-1-AI-Challenge/flair_labels_train'\n",
    "\n",
    "# def get_data_paths (path, filter):\n",
    "#     for path in Path(path).rglob(filter):\n",
    "#          yield path.resolve().as_posix()\n",
    "\n",
    "# images = sorted(list(get_data_paths(Path(train_folder), 'IMG*.tif')), key=lambda x: int(x.split('_')[-1][:-4]))\n",
    "# masks  = sorted(list(get_data_paths(Path(mask_folder), 'MSK*.tif')), key=lambda x: int(x.split('_')[-1][:-4]))"
   ]
  },
  {
   "cell_type": "code",
   "execution_count": 3,
   "metadata": {},
   "outputs": [],
   "source": [
    "train_folder = '/Users/johnny/Library/CloudStorage/OneDrive-Personal/py/Kaggle/contrails/flair/FLAIR-1-AI-Challenge/imgs'\n",
    "mask_folder = '/Users/johnny/Library/CloudStorage/OneDrive-Personal/py/Kaggle/contrails/flair/FLAIR-1-AI-Challenge/msks'\n",
    "\n",
    "def get_data_paths (path, filter):\n",
    "    for path in Path(path).rglob(filter):\n",
    "         yield path.resolve().as_posix()\n",
    "\n",
    "images = sorted(list(get_data_paths(Path(train_folder), '*.npy')))\n",
    "masks  = sorted(list(get_data_paths(Path(mask_folder), '*.npy')))"
   ]
  },
  {
   "cell_type": "code",
   "execution_count": 4,
   "metadata": {},
   "outputs": [],
   "source": [
    "from sklearn.preprocessing import StandardScaler\n",
    "\n",
    "def Normalise(arr_band):\n",
    "    \n",
    "    return StandardScaler().fit_transform(arr_band)"
   ]
  },
  {
   "cell_type": "code",
   "execution_count": 5,
   "metadata": {},
   "outputs": [],
   "source": [
    "# import rasterio\n",
    "\n",
    "# def read_img(raster_file: str) -> np.ndarray:\n",
    "#     with rasterio.open(raster_file) as src:\n",
    "#         arr_1, arr_2, arr_3, arr_4, arr_5 = Normalise(src.read(1)), Normalise(src.read(2)), Normalise(src.read(3)), Normalise(src.read(4)), Normalise(src.read(5))\n",
    "#         return sum((arr_1, arr_2, arr_3, arr_4, arr_5))\n",
    "\n",
    "# def read_msk(raster_file: str) -> np.ndarray:\n",
    "#     with rasterio.open(raster_file) as src_msk:\n",
    "#         array = src_msk.read()[0]\n",
    "#         array[array > 13] = 13\n",
    "#         array = array-1\n",
    "#         array = np.stack([array == i for i in range(13)], axis=0)\n",
    "#         return array\n",
    "    \n",
    "# for i in range(len(images)):\n",
    "#     img = read_img(images[i]).astype(np.float32)\n",
    "#     # msk = read_msk(masks[i])\n",
    "#     # save the formatted images\n",
    "#     np.save(f'/Users/johnny/Library/CloudStorage/OneDrive-Personal/py/Kaggle/contrails/flair/FLAIR-1-AI-Challenge/imgs/img_{i}.npy', img)\n",
    "#     # np.save(f'/Users/johnny/Library/CloudStorage/OneDrive-Personal/py/Kaggle/contrails/flair/FLAIR-1-AI-Challenge/msks/msk_{i}.npy', msk)"
   ]
  },
  {
   "cell_type": "code",
   "execution_count": 6,
   "metadata": {},
   "outputs": [],
   "source": [
    "# config\n",
    "# resnet34, efficientnet-b1, resnext101_32x8d_wsl, resnext101_32x16d_wsl\n",
    "config = {\n",
    "    \"data_path\": \"../\",\n",
    "    \"model\": {\n",
    "        \"encoder_name\": \"timm-resnest26d\",\n",
    "        \"loss_smooth\": 1.0,\n",
    "        \"optimizer_params\": {\"lr\": 0.003, \"weight_decay\": 0.0},\n",
    "        \"scheduler\": {\n",
    "            \"name\": \"CosineAnnealingLR\",\n",
    "            \"params\": {\n",
    "                \"CosineAnnealingLR\": {\"T_max\": 500, \"eta_min\": 1e-06, \"last_epoch\": -1},\n",
    "                \"ReduceLROnPlateau\": {\n",
    "                    \"factor\": 0.3162,\n",
    "                    \"mode\": \"min\",\n",
    "                    \"patience\": 4,\n",
    "                    \"verbose\": True,\n",
    "                },\n",
    "            },\n",
    "        },\n",
    "        \"seg_model\": \"Unet\",\n",
    "    },\n",
    "    \"output_dir\": \"models\",\n",
    "    \"progress_bar_refresh_rate\": 10,\n",
    "    \"seed\": 42,\n",
    "    \"train_bs\":15,\n",
    "    \"trainer\": {\n",
    "        \"enable_progress_bar\": True,\n",
    "        \"max_epochs\": 30,\n",
    "        \"min_epochs\": 20,\n",
    "        \"accelerator\": \"mps\",\n",
    "        \"devices\": 1,\n",
    "    },\n",
    "    \"valid_bs\": 15,\n",
    "    \"workers\": 0,\n",
    "    \"device\": \"mps\",\n",
    "    \"folds\": {\n",
    "        \"n_splits\": 4,\n",
    "        \"random_state\": 42,\n",
    "        \"train_folds\": [0, 1, 2, 3]\n",
    "    }\n",
    "}\n"
   ]
  },
  {
   "cell_type": "code",
   "execution_count": 7,
   "metadata": {},
   "outputs": [],
   "source": [
    "import torchvision.transforms as T\n",
    "import torch\n",
    "import numpy as np\n",
    "import rasterio\n",
    "from skimage import img_as_float\n",
    "\n",
    "class FlairDataset(torch.utils.data.Dataset):\n",
    "    def __init__(self, image_paths, mask_paths, image_size=256, num_classes=13):\n",
    "        self.image_paths = image_paths\n",
    "        self.mask_paths = mask_paths\n",
    "        self.normalize_image = T.Normalize((0.485, 0.456, 0.406), (0.229, 0.224, 0.225))\n",
    "        self.image_size = image_size\n",
    "        self.num_classes = num_classes\n",
    "        # if image_size != 256:\n",
    "        #     self.resize_image = T.Resize((image_size, image_size))\n",
    "        #     self.resize_mask = T.Resize((image_size, image_size), interpolation=Image.NEAREST)\n",
    "            \n",
    "\n",
    "    def read_img(self, raster_file: str) -> np.ndarray:\n",
    "        with rasterio.open(raster_file) as src:\n",
    "            arr_1, arr_2, arr_3, arr_4, arr_5 = Normalise(src.read(1)), Normalise(src.read(2)), Normalise(src.read(3)), Normalise(src.read(4)), Normalise(src.read(5))\n",
    "            return sum((arr_1, arr_2, arr_3, arr_4, arr_5))\n",
    "\n",
    "    def read_msk(self, raster_file: str) -> np.ndarray:\n",
    "        with rasterio.open(raster_file) as src_msk:\n",
    "            array = src_msk.read()[0]\n",
    "            array[array > self.num_classes] = self.num_classes\n",
    "            array = array-1\n",
    "            array = np.stack([array == i for i in range(self.num_classes)], axis=0)\n",
    "            return array\n",
    "        \n",
    "    def __getitem__(self, index):\n",
    "        image_path = self.image_paths[index]\n",
    "        mask_path = self.mask_paths[index]\n",
    "\n",
    "        img = np.load(image_path)\n",
    "        msk = np.load(mask_path)         \n",
    "        \n",
    "        # img = img_as_float(img)\n",
    "\n",
    "        # # Resize if necessary\n",
    "        # if self.image_size != 256:\n",
    "        #     img = self.resize_image(img)\n",
    "        #     label = self.resize_mask(label)\n",
    "\n",
    "        # Transform the image and mask to tensors\n",
    "        img = torch.as_tensor(img, dtype=torch.float).unsqueeze(0)\n",
    "        msk = torch.as_tensor(msk, dtype=torch.float)\n",
    "\n",
    "        # Normalize the image\n",
    "        # img = self.normalize_image(img)\n",
    "\n",
    "        return img, msk\n",
    "\n",
    "    def __len__(self):\n",
    "        return len(self.image_paths)\n"
   ]
  },
  {
   "cell_type": "code",
   "execution_count": 8,
   "metadata": {},
   "outputs": [],
   "source": [
    "# import torch\n",
    "# import numpy as np\n",
    "# import torchvision.transforms as T\n",
    "\n",
    "# class ContrailsDataset(torch.utils.data.Dataset):\n",
    "#     def __init__(self, df, image_size=256, train=True):\n",
    "\n",
    "#         self.df = df\n",
    "#         self.trn = train\n",
    "#         self.normalize_image = T.Normalize((0.485, 0.456, 0.406), (0.229, 0.224, 0.225))\n",
    "#         self.image_size = image_size\n",
    "#         if image_size != 256:\n",
    "#             self.resize_image = T.transforms.Resize(image_size)\n",
    "\n",
    "#     def __getitem__(self, index):\n",
    "#         row = self.df.iloc[index]\n",
    "#         con_path = row.path\n",
    "#         con = np.load(str(con_path))\n",
    "\n",
    "#         img = con[..., :-1]\n",
    "#         label = con[..., -1]\n",
    "\n",
    "#         label = torch.tensor(label)\n",
    "\n",
    "#         img = torch.tensor(np.reshape(img, (256, 256, 3))).to(torch.float32).permute(2, 0, 1)\n",
    "\n",
    "#         if self.image_size != 256:\n",
    "#             img = self.resize_image(img)\n",
    "\n",
    "#         img = self.normalize_image(img)\n",
    "\n",
    "#         return img.float(), label.float()\n",
    "\n",
    "#     def __len__(self):\n",
    "#         return len(self.df)"
   ]
  },
  {
   "cell_type": "code",
   "execution_count": 9,
   "metadata": {},
   "outputs": [],
   "source": [
    "import torch\n",
    "import lightning.pytorch as pl\n",
    "import segmentation_models_pytorch as smp\n",
    "from torch.optim.lr_scheduler import CosineAnnealingLR, ReduceLROnPlateau\n",
    "from torch.optim import AdamW\n",
    "import torch.nn as nn\n",
    "from lightning.pytorch.callbacks import ProgressBar\n",
    "from torchmetrics.functional import dice, f1_score, jaccard_index\n",
    "import gc\n",
    "\n",
    "bar = ProgressBar()\n",
    "\n",
    "seg_models = {\n",
    "    \"Unet\": smp.Unet,\n",
    "    \"Unet++\": smp.UnetPlusPlus,\n",
    "    \"MAnet\": smp.MAnet,\n",
    "    \"Linknet\": smp.Linknet,\n",
    "    \"FPN\": smp.FPN,\n",
    "    \"PSPNet\": smp.PSPNet,\n",
    "    \"PAN\": smp.PAN,\n",
    "    \"DeepLabV3\": smp.DeepLabV3,\n",
    "    \"DeepLabV3+\": smp.DeepLabV3Plus,\n",
    "}\n",
    "\n",
    "# class DiceLoss(nn.Module):\n",
    "#     def __init__(self, smooth=1):\n",
    "#         super(DiceLoss, self).__init__()\n",
    "#         self.smooth = smooth\n",
    "\n",
    "#     def forward(self, logits, targets):\n",
    "#         logits = torch.sigmoid(logits)\n",
    "\n",
    "#         batch_size, num_classes, height, width = logits.size()\n",
    "\n",
    "#         logits = logits.reshape(batch_size, -1)\n",
    "#         targets = targets.reshape(batch_size, -1)\n",
    "\n",
    "#         intersection = (logits * targets).sum(dim=1)\n",
    "#         union = logits.sum(dim=1) + targets.sum(dim=1)\n",
    "#         dice_coeff = (2.0 * intersection + self.smooth) / (union + self.smooth)\n",
    "\n",
    "#         return 1 - dice_coeff.mean()\n",
    "\n",
    "class DiceLoss(nn.Module):\n",
    "    def __init__(self, smooth=1):\n",
    "        super(DiceLoss, self).__init__()\n",
    "        self.smooth = smooth\n",
    "\n",
    "    def forward(self, logits, targets):\n",
    "        logits = torch.sigmoid(logits)\n",
    "\n",
    "        # flatten label and prediction tensors\n",
    "        logits = logits.view(-1)\n",
    "        targets = targets.view(-1)\n",
    "\n",
    "        intersection = (logits * targets).sum()\n",
    "        return 1 - (2.0 * intersection + self.smooth) / (\n",
    "            logits.sum() + targets.sum() + self.smooth\n",
    "        )\n",
    "\n",
    "\n",
    "class LightningModule(pl.LightningModule):\n",
    "    def __init__(self, config):\n",
    "        super().__init__()\n",
    "        self.config = config\n",
    "        self.model = seg_models[config[\"seg_model\"]](\n",
    "            encoder_name=config[\"encoder_name\"],\n",
    "            encoder_weights=\"imagenet\",\n",
    "            in_channels=1,\n",
    "            classes=13,\n",
    "            activation=None,\n",
    "        )\n",
    "        self.loss_module = DiceLoss(smooth=config[\"loss_smooth\"])\n",
    "        self.val_step_outputs = []\n",
    "        self.val_step_labels = []\n",
    "\n",
    "    def forward(self, batch):\n",
    "        imgs = batch.to(self.device)\n",
    "        return self.model(imgs)\n",
    "\n",
    "    def configure_optimizers(self):\n",
    "        optimizer = AdamW(self.parameters(), **self.config[\"optimizer_params\"])\n",
    "\n",
    "        if self.config[\"scheduler\"][\"name\"] == \"CosineAnnealingLR\":\n",
    "            scheduler = CosineAnnealingLR(\n",
    "                optimizer,\n",
    "                **self.config[\"scheduler\"][\"params\"][self.config[\"scheduler\"][\"name\"]],\n",
    "            )\n",
    "            lr_scheduler_dict = {\"scheduler\": scheduler, \"interval\": \"step\"}\n",
    "            return {\"optimizer\": optimizer, \"lr_scheduler\": lr_scheduler_dict}\n",
    "        elif self.config[\"scheduler\"][\"name\"] == \"ReduceLROnPlateau\":\n",
    "            scheduler = ReduceLROnPlateau(\n",
    "                optimizer,\n",
    "                **self.config[\"scheduler\"][\"params\"][self.config[\"scheduler\"][\"name\"]],\n",
    "            )\n",
    "            lr_scheduler = {\"scheduler\": scheduler, \"monitor\": \"val_loss\"}\n",
    "            return {\"optimizer\": optimizer, \"lr_scheduler\": lr_scheduler}\n",
    "\n",
    "    def training_step(self, batch, batch_idx):\n",
    "        imgs, labels = batch\n",
    "        # labels = labels.unsqueeze(1)\n",
    "        # labels = labels.expand(-1, 13, -1, -1)\n",
    "        preds = self.model(imgs)\n",
    "        del imgs\n",
    "        loss = self.loss_module(preds, labels)\n",
    "        self.log(\"train_loss\", loss, on_step=True, on_epoch=True, prog_bar=True, batch_size=16)\n",
    "\n",
    "        for param_group in self.trainer.optimizers[0].param_groups:\n",
    "            lr = param_group[\"lr\"]\n",
    "        self.log(\"lr\", lr, on_step=True, on_epoch=False, prog_bar=True)\n",
    "\n",
    "        return loss\n",
    "\n",
    "    def validation_step(self, batch, batch_idx):\n",
    "        imgs, labels = batch\n",
    "        # labels = labels.unsqueeze(1)\n",
    "        # labels = labels.expand(-1, 13, -1, -1)\n",
    "        preds = self.model(imgs)\n",
    "        loss = self.loss_module(preds, labels)\n",
    "        self.log(\"val_loss\", loss , on_step=False, on_epoch=True, prog_bar=True)\n",
    "        # self.val_step_outputs.append(preds)\n",
    "        # self.val_step_labels.append(labels)\n",
    "\n",
    "    # def on_validation_epoch_end(self):\n",
    "    #     all_preds = torch.cat(self.val_step_outputs)\n",
    "    #     all_labels = torch.cat(self.val_step_labels)\n",
    "    #     self.val_step_outputs.clear()\n",
    "    #     self.val_step_labels.clear()\n",
    "    #     val_iou = jaccard_index(num_classes=13, preds=all_preds.sigmoid(), target=all_labels.long(), task='multiclass')\n",
    "    #     self.log(\"val_iou\", val_iou, on_step=False, on_epoch=True, prog_bar=True)\n"
   ]
  },
  {
   "cell_type": "code",
   "execution_count": 10,
   "metadata": {},
   "outputs": [
    {
     "name": "stderr",
     "output_type": "stream",
     "text": [
      "Global seed set to 42\n",
      "GPU available: True (mps), used: True\n",
      "TPU available: False, using: 0 TPU cores\n",
      "IPU available: False, using: 0 IPUs\n",
      "HPU available: False, using: 0 HPUs\n",
      "\n",
      "  | Name        | Type     | Params\n",
      "-----------------------------------------\n",
      "0 | model       | Unet     | 24.0 M\n",
      "1 | loss_module | DiceLoss | 0     \n",
      "-----------------------------------------\n",
      "24.0 M    Trainable params\n",
      "0         Non-trainable params\n",
      "24.0 M    Total params\n",
      "96.139    Total estimated model params size (MB)\n"
     ]
    },
    {
     "data": {
      "application/vnd.jupyter.widget-view+json": {
       "model_id": "26bc6a0c66c449ab9efe3c7fc66075ae",
       "version_major": 2,
       "version_minor": 0
      },
      "text/plain": [
       "Sanity Checking: 0it [00:00, ?it/s]"
      ]
     },
     "metadata": {},
     "output_type": "display_data"
    },
    {
     "data": {
      "application/vnd.jupyter.widget-view+json": {
       "model_id": "fdd86ee3512b4ad7b22810b51ec34650",
       "version_major": 2,
       "version_minor": 0
      },
      "text/plain": [
       "Training: 0it [00:00, ?it/s]"
      ]
     },
     "metadata": {},
     "output_type": "display_data"
    },
    {
     "data": {
      "application/vnd.jupyter.widget-view+json": {
       "model_id": "69c0cf18ac03471e91de89112b4d9b21",
       "version_major": 2,
       "version_minor": 0
      },
      "text/plain": [
       "Validation: 0it [00:00, ?it/s]"
      ]
     },
     "metadata": {},
     "output_type": "display_data"
    },
    {
     "name": "stderr",
     "output_type": "stream",
     "text": [
      "Metric val_loss improved. New best score: 0.679\n",
      "Epoch 0, global step 3292: 'val_loss' reached 0.67940 (best 0.67940), saving model to '/Users/johnny/Library/CloudStorage/OneDrive-Personal/py/Kaggle/contrails/notebooks/models/Unet_timm-resnest26d-v3.ckpt' as top 1\n"
     ]
    },
    {
     "data": {
      "application/vnd.jupyter.widget-view+json": {
       "model_id": "400c29eb000941c3a3fbf9fd905b4246",
       "version_major": 2,
       "version_minor": 0
      },
      "text/plain": [
       "Validation: 0it [00:00, ?it/s]"
      ]
     },
     "metadata": {},
     "output_type": "display_data"
    },
    {
     "name": "stderr",
     "output_type": "stream",
     "text": [
      "Metric val_loss improved by 0.009 >= min_delta = 0.0. New best score: 0.671\n",
      "Epoch 1, global step 6584: 'val_loss' was not in top 1\n"
     ]
    },
    {
     "data": {
      "application/vnd.jupyter.widget-view+json": {
       "model_id": "8b6f749b40124d169362072d0d66a629",
       "version_major": 2,
       "version_minor": 0
      },
      "text/plain": [
       "Validation: 0it [00:00, ?it/s]"
      ]
     },
     "metadata": {},
     "output_type": "display_data"
    },
    {
     "name": "stderr",
     "output_type": "stream",
     "text": [
      "Metric val_loss improved by 0.042 >= min_delta = 0.0. New best score: 0.629\n",
      "Epoch 2, global step 9876: 'val_loss' was not in top 1\n"
     ]
    },
    {
     "data": {
      "application/vnd.jupyter.widget-view+json": {
       "model_id": "04fc2d56bf45455c9771c40da7b12da0",
       "version_major": 2,
       "version_minor": 0
      },
      "text/plain": [
       "Validation: 0it [00:00, ?it/s]"
      ]
     },
     "metadata": {},
     "output_type": "display_data"
    },
    {
     "name": "stderr",
     "output_type": "stream",
     "text": [
      "Metric val_loss improved by 0.026 >= min_delta = 0.0. New best score: 0.602\n",
      "Epoch 3, global step 13168: 'val_loss' was not in top 1\n"
     ]
    },
    {
     "data": {
      "application/vnd.jupyter.widget-view+json": {
       "model_id": "6cecbc278093408ba9cc02964a27f60e",
       "version_major": 2,
       "version_minor": 0
      },
      "text/plain": [
       "Validation: 0it [00:00, ?it/s]"
      ]
     },
     "metadata": {},
     "output_type": "display_data"
    },
    {
     "name": "stderr",
     "output_type": "stream",
     "text": [
      "Epoch 4, global step 16460: 'val_loss' was not in top 1\n"
     ]
    },
    {
     "data": {
      "application/vnd.jupyter.widget-view+json": {
       "model_id": "2725653f1aaf419fbdee758d8c034868",
       "version_major": 2,
       "version_minor": 0
      },
      "text/plain": [
       "Validation: 0it [00:00, ?it/s]"
      ]
     },
     "metadata": {},
     "output_type": "display_data"
    },
    {
     "name": "stderr",
     "output_type": "stream",
     "text": [
      "Metric val_loss improved by 0.005 >= min_delta = 0.0. New best score: 0.597\n",
      "Epoch 5, global step 19752: 'val_loss' was not in top 1\n"
     ]
    },
    {
     "data": {
      "application/vnd.jupyter.widget-view+json": {
       "model_id": "dd371e49c58147e6be9a4d96fad3a258",
       "version_major": 2,
       "version_minor": 0
      },
      "text/plain": [
       "Validation: 0it [00:00, ?it/s]"
      ]
     },
     "metadata": {},
     "output_type": "display_data"
    },
    {
     "name": "stderr",
     "output_type": "stream",
     "text": [
      "Metric val_loss improved by 0.025 >= min_delta = 0.0. New best score: 0.572\n",
      "Epoch 6, global step 23044: 'val_loss' was not in top 1\n"
     ]
    },
    {
     "data": {
      "application/vnd.jupyter.widget-view+json": {
       "model_id": "b25c037fa5554e888e632d6e0a71a3cd",
       "version_major": 2,
       "version_minor": 0
      },
      "text/plain": [
       "Validation: 0it [00:00, ?it/s]"
      ]
     },
     "metadata": {},
     "output_type": "display_data"
    },
    {
     "name": "stderr",
     "output_type": "stream",
     "text": [
      "Epoch 7, global step 26336: 'val_loss' was not in top 1\n"
     ]
    },
    {
     "data": {
      "application/vnd.jupyter.widget-view+json": {
       "model_id": "c29737b47bc14f2583b564d0e818d4bb",
       "version_major": 2,
       "version_minor": 0
      },
      "text/plain": [
       "Validation: 0it [00:00, ?it/s]"
      ]
     },
     "metadata": {},
     "output_type": "display_data"
    },
    {
     "name": "stderr",
     "output_type": "stream",
     "text": [
      "Epoch 8, global step 29628: 'val_loss' was not in top 1\n"
     ]
    },
    {
     "data": {
      "application/vnd.jupyter.widget-view+json": {
       "model_id": "cf77691c12e44eddafe58b5c61e41efb",
       "version_major": 2,
       "version_minor": 0
      },
      "text/plain": [
       "Validation: 0it [00:00, ?it/s]"
      ]
     },
     "metadata": {},
     "output_type": "display_data"
    },
    {
     "name": "stderr",
     "output_type": "stream",
     "text": [
      "Epoch 9, global step 32920: 'val_loss' was not in top 1\n"
     ]
    },
    {
     "data": {
      "application/vnd.jupyter.widget-view+json": {
       "model_id": "886bd9ea3c1f4470981e8c9f9a5e3e9c",
       "version_major": 2,
       "version_minor": 0
      },
      "text/plain": [
       "Validation: 0it [00:00, ?it/s]"
      ]
     },
     "metadata": {},
     "output_type": "display_data"
    },
    {
     "name": "stderr",
     "output_type": "stream",
     "text": [
      "Epoch 10, global step 36212: 'val_loss' was not in top 1\n"
     ]
    },
    {
     "data": {
      "application/vnd.jupyter.widget-view+json": {
       "model_id": "af72a93988f640c1bebee0c9a01dfcfe",
       "version_major": 2,
       "version_minor": 0
      },
      "text/plain": [
       "Validation: 0it [00:00, ?it/s]"
      ]
     },
     "metadata": {},
     "output_type": "display_data"
    },
    {
     "name": "stderr",
     "output_type": "stream",
     "text": [
      "Monitored metric val_loss did not improve in the last 5 records. Best score: 0.572. Signaling Trainer to stop.\n",
      "Epoch 11, global step 39504: 'val_loss' was not in top 1\n",
      "Trainer was signaled to stop but the required `min_epochs=20` or `min_steps=None` has not been met. Training will continue...\n"
     ]
    },
    {
     "data": {
      "application/vnd.jupyter.widget-view+json": {
       "model_id": "f35c7464076f47aeb24bafb3988b74f5",
       "version_major": 2,
       "version_minor": 0
      },
      "text/plain": [
       "Validation: 0it [00:00, ?it/s]"
      ]
     },
     "metadata": {},
     "output_type": "display_data"
    },
    {
     "name": "stderr",
     "output_type": "stream",
     "text": [
      "Monitored metric val_loss did not improve in the last 6 records. Best score: 0.572. Signaling Trainer to stop.\n",
      "Epoch 12, global step 42796: 'val_loss' was not in top 1\n"
     ]
    },
    {
     "data": {
      "application/vnd.jupyter.widget-view+json": {
       "model_id": "39b5a7932a58427d898b007d911457d1",
       "version_major": 2,
       "version_minor": 0
      },
      "text/plain": [
       "Validation: 0it [00:00, ?it/s]"
      ]
     },
     "metadata": {},
     "output_type": "display_data"
    },
    {
     "name": "stderr",
     "output_type": "stream",
     "text": [
      "Metric val_loss improved by 0.005 >= min_delta = 0.0. New best score: 0.568\n",
      "Epoch 13, global step 46088: 'val_loss' was not in top 1\n"
     ]
    },
    {
     "data": {
      "application/vnd.jupyter.widget-view+json": {
       "model_id": "489658c899a5451dbfac8b2375dd1c2d",
       "version_major": 2,
       "version_minor": 0
      },
      "text/plain": [
       "Validation: 0it [00:00, ?it/s]"
      ]
     },
     "metadata": {},
     "output_type": "display_data"
    },
    {
     "name": "stderr",
     "output_type": "stream",
     "text": [
      "Epoch 14, global step 49380: 'val_loss' was not in top 1\n"
     ]
    },
    {
     "data": {
      "application/vnd.jupyter.widget-view+json": {
       "model_id": "b259b6cbb3874a9399d9c5bc2ccc54a9",
       "version_major": 2,
       "version_minor": 0
      },
      "text/plain": [
       "Validation: 0it [00:00, ?it/s]"
      ]
     },
     "metadata": {},
     "output_type": "display_data"
    },
    {
     "name": "stderr",
     "output_type": "stream",
     "text": [
      "Metric val_loss improved by 0.017 >= min_delta = 0.0. New best score: 0.551\n",
      "Epoch 15, global step 52672: 'val_loss' was not in top 1\n"
     ]
    },
    {
     "data": {
      "application/vnd.jupyter.widget-view+json": {
       "model_id": "2e7046cd0d6b41da942572217ffb8419",
       "version_major": 2,
       "version_minor": 0
      },
      "text/plain": [
       "Validation: 0it [00:00, ?it/s]"
      ]
     },
     "metadata": {},
     "output_type": "display_data"
    },
    {
     "name": "stderr",
     "output_type": "stream",
     "text": [
      "Epoch 16, global step 55964: 'val_loss' was not in top 1\n"
     ]
    },
    {
     "data": {
      "application/vnd.jupyter.widget-view+json": {
       "model_id": "154943cec362465aa367345c7acf7e32",
       "version_major": 2,
       "version_minor": 0
      },
      "text/plain": [
       "Validation: 0it [00:00, ?it/s]"
      ]
     },
     "metadata": {},
     "output_type": "display_data"
    },
    {
     "name": "stderr",
     "output_type": "stream",
     "text": [
      "Metric val_loss improved by 0.026 >= min_delta = 0.0. New best score: 0.524\n",
      "Epoch 17, global step 59256: 'val_loss' was not in top 1\n"
     ]
    },
    {
     "data": {
      "application/vnd.jupyter.widget-view+json": {
       "model_id": "af38856a73764a01979ac476a53c3174",
       "version_major": 2,
       "version_minor": 0
      },
      "text/plain": [
       "Validation: 0it [00:00, ?it/s]"
      ]
     },
     "metadata": {},
     "output_type": "display_data"
    },
    {
     "name": "stderr",
     "output_type": "stream",
     "text": [
      "Epoch 18, global step 62548: 'val_loss' was not in top 1\n"
     ]
    },
    {
     "data": {
      "application/vnd.jupyter.widget-view+json": {
       "model_id": "109bc1f9980248388445453e6e322113",
       "version_major": 2,
       "version_minor": 0
      },
      "text/plain": [
       "Validation: 0it [00:00, ?it/s]"
      ]
     },
     "metadata": {},
     "output_type": "display_data"
    },
    {
     "name": "stderr",
     "output_type": "stream",
     "text": [
      "Metric val_loss improved by 0.006 >= min_delta = 0.0. New best score: 0.518\n",
      "Epoch 19, global step 65840: 'val_loss' was not in top 1\n"
     ]
    }
   ],
   "source": [
    "import warnings\n",
    "\n",
    "warnings.filterwarnings(\"ignore\")\n",
    "\n",
    "import os\n",
    "import torch\n",
    "import pandas as pd\n",
    "import lightning.pytorch as pl\n",
    "from pprint import pprint\n",
    "from lightning.pytorch.callbacks import ModelCheckpoint, EarlyStopping, TQDMProgressBar\n",
    "from torch.utils.data import DataLoader\n",
    "\n",
    "\n",
    "# Split your data into train and validation sets, here I simply split it 80-20\n",
    "\n",
    "fraction = 1\n",
    "\n",
    "split_point = int(len(images) * 0.8 * fraction)\n",
    "train_split = int(len(images) * 0.8 * 0.8 * fraction)\n",
    "\n",
    "train_image_paths = images[:split_point]\n",
    "train_mask_paths = masks[:split_point]\n",
    "\n",
    "valid_image_paths = images[split_point:]\n",
    "valid_mask_paths = masks[split_point:]\n",
    "\n",
    "# Use your dataset class\n",
    "dataset_train = FlairDataset(train_image_paths, train_mask_paths)\n",
    "dataset_validation = FlairDataset(valid_image_paths, valid_mask_paths)\n",
    "\n",
    "data_loader_train = DataLoader(\n",
    "    dataset_train, batch_size=config[\"train_bs\"], shuffle=False, num_workers=config[\"workers\"]\n",
    ")\n",
    "data_loader_validation = DataLoader(\n",
    "    dataset_validation, batch_size=config[\"valid_bs\"], shuffle=False, num_workers=config[\"workers\"]\n",
    ")\n",
    "\n",
    "pl.seed_everything(config[\"seed\"])\n",
    "\n",
    "filename = f\"{config['model']['seg_model']}_{config['model']['encoder_name']}\"\n",
    "\n",
    "checkpoint_callback = ModelCheckpoint(\n",
    "    monitor=\"val_loss\",\n",
    "    dirpath=config[\"output_dir\"],\n",
    "    mode=\"min\",\n",
    "    filename=filename,\n",
    "    save_top_k=1,\n",
    "    verbose=1,\n",
    ")\n",
    "\n",
    "progress_bar_callback = TQDMProgressBar(refresh_rate=config[\"progress_bar_refresh_rate\"])\n",
    "\n",
    "early_stop_callback = EarlyStopping(monitor=\"val_loss\", mode=\"min\", patience=5, verbose=1)\n",
    "\n",
    "trainer = pl.Trainer(\n",
    "    callbacks=[checkpoint_callback, early_stop_callback, progress_bar_callback], logger=None, **config[\"trainer\"]\n",
    ")\n",
    "\n",
    "model = LightningModule(config[\"model\"])\n",
    "\n",
    "trainer.fit(model, data_loader_train, data_loader_validation)"
   ]
  },
  {
   "cell_type": "code",
   "execution_count": 14,
   "metadata": {},
   "outputs": [],
   "source": [
    "# save the current model checkpoint\n",
    "trainer.save_checkpoint(os.path.join(config[\"output_dir\"], f\"{filename}.ckpt\"))"
   ]
  },
  {
   "cell_type": "code",
   "execution_count": 11,
   "metadata": {},
   "outputs": [],
   "source": [
    "%reload_ext tensorboard"
   ]
  },
  {
   "cell_type": "code",
   "execution_count": 13,
   "metadata": {},
   "outputs": [
    {
     "data": {
      "text/plain": [
       "Reusing TensorBoard on port 6006 (pid 30473), started 0:00:05 ago. (Use '!kill 30473' to kill it.)"
      ]
     },
     "metadata": {},
     "output_type": "display_data"
    },
    {
     "data": {
      "text/html": [
       "\n",
       "      <iframe id=\"tensorboard-frame-bdd640fb06671ad1\" width=\"100%\" height=\"800\" frameborder=\"0\">\n",
       "      </iframe>\n",
       "      <script>\n",
       "        (function() {\n",
       "          const frame = document.getElementById(\"tensorboard-frame-bdd640fb06671ad1\");\n",
       "          const url = new URL(\"http://localhost\");\n",
       "          const port = 6006;\n",
       "          if (port) {\n",
       "            url.port = port;\n",
       "          }\n",
       "          frame.src = url;\n",
       "        })();\n",
       "      </script>\n",
       "    "
      ],
      "text/plain": [
       "<IPython.core.display.HTML object>"
      ]
     },
     "metadata": {},
     "output_type": "display_data"
    }
   ],
   "source": [
    "%tensorboard --logdir=lightning_logs/"
   ]
  },
  {
   "cell_type": "code",
   "execution_count": 15,
   "metadata": {},
   "outputs": [],
   "source": [
    "# save the model\n",
    "torch.save(model.state_dict(), f'models/{filename}.pt')"
   ]
  },
  {
   "cell_type": "code",
   "execution_count": 16,
   "metadata": {},
   "outputs": [
    {
     "data": {
      "text/plain": [
       "[<matplotlib.lines.Line2D at 0x426ec4210>]"
      ]
     },
     "execution_count": 16,
     "metadata": {},
     "output_type": "execute_result"
    },
    {
     "data": {
      "image/png": "[encoded data removed]",
      "text/plain": [
       "<Figure size 640x480 with 1 Axes>"
      ]
     },
     "metadata": {},
     "output_type": "display_data"
    }
   ],
   "source": [
    "# plot the training and validation loss\n",
    "plt.plot(trainer.callback_metrics['train_loss'])\n",
    "plt.plot(trainer.callback_metrics['val_loss'])"
   ]
  },
  {
   "cell_type": "code",
   "execution_count": null,
   "metadata": {},
   "outputs": [],
   "source": []
  }
 ],
 "metadata": {
  "kernelspec": {
   "display_name": "kaggle",
   "language": "python",
   "name": "python3"
  },
  "language_info": {
   "codemirror_mode": {
    "name": "ipython",
    "version": 3
   },
   "file_extension": ".py",
   "mimetype": "text/x-python",
   "name": "python",
   "nbconvert_exporter": "python",
   "pygments_lexer": "ipython3",
   "version": "3.11.4"
  },
  "orig_nbformat": 4
 },
 "nbformat": 4,
 "nbformat_minor": 2
}
